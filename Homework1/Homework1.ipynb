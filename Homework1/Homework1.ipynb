{
  "nbformat": 4,
  "nbformat_minor": 0,
  "metadata": {
    "colab": {
      "name": "Homework1.ipynb",
      "provenance": [],
      "collapsed_sections": []
    },
    "kernelspec": {
      "name": "python3",
      "display_name": "Python 3"
    },
    "language_info": {
      "name": "python"
    }
  },
  "cells": [
    {
      "cell_type": "markdown",
      "source": [
        "**hw1_exercise1.py**"
      ],
      "metadata": {
        "id": "IfH-6jcSibQF"
      }
    },
    {
      "cell_type": "code",
      "source": [
        "import urllib.request\n",
        "urllib.request.urlretrieve('https://raw.githubusercontent.com/dgofman/PythonAI/main/Homework1/hw1_exercise1.py', '/content/hw1_exercise1.py')\n",
        "\n",
        "import hw1_exercise1 as hw\n",
        "hw.main()"
      ],
      "metadata": {
        "colab": {
          "base_uri": "https://localhost:8080/"
        },
        "id": "dHCm2F5MigbK",
        "outputId": "aef4f5f4-3d4d-4db5-bd4e-fb2d24e5b70a"
      },
      "execution_count": 2,
      "outputs": [
        {
          "output_type": "stream",
          "name": "stdout",
          "text": [
            "How old are you? 18\n",
            "How tall are you? 5.6 ft.\n",
            "How much do you weigh? 150 lbl.\n",
            "So, you're     18      old,  5.6 ft.    tall and  150 lbl.  heavy.\n"
          ]
        }
      ]
    },
    {
      "cell_type": "markdown",
      "source": [
        "**hw1_exercise2.py**"
      ],
      "metadata": {
        "id": "qojSzzcGkypb"
      }
    },
    {
      "cell_type": "code",
      "source": [
        "import urllib.request\n",
        "urllib.request.urlretrieve('https://raw.githubusercontent.com/dgofman/PythonAI/main/Homework1/hw1_exercise2.py', '/content/hw1_exercise2.py')\n",
        "\n",
        "import sys\n",
        "import hw1_exercise2 as hw\n",
        "hw.main(sys.argv)\n",
        "print()\n",
        "hw.main([\"hw1_exercise2.py\", \"Hello\", \"World\", \"!\"])"
      ],
      "metadata": {
        "colab": {
          "base_uri": "https://localhost:8080/"
        },
        "id": "TmJpOX8Ik2ue",
        "outputId": "b80a24ea-bc61-4825-c714-b831dd4cb2aa"
      },
      "execution_count": 4,
      "outputs": [
        {
          "output_type": "stream",
          "name": "stdout",
          "text": [
            "The script is called: /usr/local/lib/python3.7/dist-packages/ipykernel_launcher.py\n",
            "Your first variable is: -f\n",
            "Your second variable is: /root/.local/share/jupyter/runtime/kernel-ae3515eb-ed0f-422e-9af3-5e39c04475da.json\n",
            "Your third variable is: Python For AI Basics -2022\n",
            "\n",
            "The script is called: hw1_exercise2.py\n",
            "Your first variable is: Hello\n",
            "Your second variable is: World\n",
            "Your third variable is: !\n"
          ]
        }
      ]
    },
    {
      "cell_type": "markdown",
      "source": [
        "**hw1_exercise3.py**"
      ],
      "metadata": {
        "id": "kcwcE3HzlMar"
      }
    },
    {
      "cell_type": "code",
      "source": [
        "import urllib.request\n",
        "urllib.request.urlretrieve('https://raw.githubusercontent.com/dgofman/PythonAI/main/Homework1/hw1_exercise3.py', '/content/hw1_exercise3.py')\n",
        "\n",
        "import sys\n",
        "import hw1_exercise3 as hw\n",
        "hw.main(sys.argv)\n",
        "hw.main([\"hw1_exercise3.py\", \"hello_world\"])\n",
        "hw.main([\"hw1_exercise3.py\", 100])"
      ],
      "metadata": {
        "colab": {
          "base_uri": "https://localhost:8080/"
        },
        "id": "4t1QgSK8lSGI",
        "outputId": "0396367f-18d8-471d-da85-e4379309d824"
      },
      "execution_count": 9,
      "outputs": [
        {
          "output_type": "stream",
          "name": "stdout",
          "text": [
            "50\n",
            "50\n",
            "1000\n"
          ]
        }
      ]
    },
    {
      "cell_type": "markdown",
      "source": [
        "**hw1_exercise4.py**"
      ],
      "metadata": {
        "id": "iJJSHxrsl3ak"
      }
    },
    {
      "cell_type": "code",
      "source": [
        "import urllib.request\n",
        "urllib.request.urlretrieve('https://raw.githubusercontent.com/dgofman/PythonAI/main/Homework1/hw1_exercise4.py', '/content/hw1_exercise4.py')\n",
        "\n",
        "import hw1_exercise4 as hw\n",
        "hw.main(sys.argv)\n",
        "hw.main([\"hw1_exercise4.py\", 12])\n",
        "hw.main([\"hw1_exercise4.py\", 10])\n",
        "hw.main([\"hw1_exercise4.py\", \"hello_world\"])"
      ],
      "metadata": {
        "colab": {
          "base_uri": "https://localhost:8080/"
        },
        "id": "JQ2_oLvdmFgw",
        "outputId": "90cd5d48-a41b-4757-eeaa-416b6f31502d"
      },
      "execution_count": 7,
      "outputs": [
        {
          "output_type": "stream",
          "name": "stdout",
          "text": [
            "Unexpected quantity: -f\n",
            "Quantity accepted!\n",
            "Unexpected quantity: 10\n",
            "Unexpected quantity: hello_world\n"
          ]
        }
      ]
    },
    {
      "cell_type": "markdown",
      "source": [
        "**hw1_exercise5.py**"
      ],
      "metadata": {
        "id": "JCV7m2c7ooei"
      }
    },
    {
      "cell_type": "code",
      "source": [
        "import urllib.request\n",
        "urllib.request.urlretrieve('https://raw.githubusercontent.com/dgofman/PythonAI/main/Homework1/hw1_exercise5.py', '/content/hw1_exercise5.py')\n",
        "\n",
        "import hw1_exercise5 as hw\n",
        "hw.main()"
      ],
      "metadata": {
        "colab": {
          "base_uri": "https://localhost:8080/"
        },
        "id": "uGvw-3Gnoqtn",
        "outputId": "e7324528-3541-460c-d7b6-518926730f48"
      },
      "execution_count": 10,
      "outputs": [
        {
          "output_type": "stream",
          "name": "stdout",
          "text": [
            "a=3, b=2, c=1\n"
          ]
        }
      ]
    },
    {
      "cell_type": "markdown",
      "source": [
        "**hw1_exercise6.py**"
      ],
      "metadata": {
        "id": "gIcH1HjxozcU"
      }
    },
    {
      "cell_type": "code",
      "source": [
        "import urllib.request\n",
        "urllib.request.urlretrieve('https://raw.githubusercontent.com/dgofman/PythonAI/main/Homework1/hw1_exercise6.py', '/content/hw1_exercise6.py')\n",
        "\n",
        "import hw1_exercise6 as hw\n",
        "hw.main()"
      ],
      "metadata": {
        "colab": {
          "base_uri": "https://localhost:8080/"
        },
        "id": "bhNDrxtzo10l",
        "outputId": "61f52920-94ef-44dd-c423-ded917984e5a"
      },
      "execution_count": 11,
      "outputs": [
        {
          "output_type": "stream",
          "name": "stdout",
          "text": [
            "1 3.4\n",
            "0 0\n",
            "1 3.4\n"
          ]
        }
      ]
    },
    {
      "cell_type": "markdown",
      "source": [
        "**hw1_exercise7.py**"
      ],
      "metadata": {
        "id": "qU4L7XtMpJl7"
      }
    },
    {
      "cell_type": "code",
      "source": [
        "import urllib.request\n",
        "urllib.request.urlretrieve('https://raw.githubusercontent.com/dgofman/PythonAI/main/Homework1/hw1_common_total.py', '/content/hw1_common_total.py')\n",
        "urllib.request.urlretrieve('https://raw.githubusercontent.com/dgofman/PythonAI/main/Homework1/hw1_exercise7.py', '/content/hw1_exercise7.py')\n",
        "\n",
        "import hw1_exercise7 as hw\n",
        "hw.main()"
      ],
      "metadata": {
        "colab": {
          "base_uri": "https://localhost:8080/"
        },
        "id": "Ib8veNd_pOJ1",
        "outputId": "acf72a34-22a5-49f1-f40d-3bcfca4f3488"
      },
      "execution_count": 14,
      "outputs": [
        {
          "output_type": "stream",
          "name": "stdout",
          "text": [
            "Enter loan payment: hello_world\n",
            "\u001b[91m  Error: could not convert string to float: 'hello_world'\u001b[00m\n",
            "Enter loan payment: 250.50\n",
            "Enter car insurance: 65.30\n",
            "Enter gas expenses: 80\n",
            "Enter oil expenses: 20\n",
            "Enter tire costs: 40\n",
            "Enter maintenance costs: 55\n",
            "\n",
            "Monthly car expenses: $510.80\n",
            "\n",
            "Annual car expenses: $6129.60\n"
          ]
        }
      ]
    },
    {
      "cell_type": "markdown",
      "source": [
        "**hw1_exercise8.py**"
      ],
      "metadata": {
        "id": "TESL_eoLpu0a"
      }
    },
    {
      "cell_type": "code",
      "source": [
        "import urllib.request\n",
        "urllib.request.urlretrieve('https://raw.githubusercontent.com/dgofman/PythonAI/main/Homework1/hw1_common_total.py', '/content/hw1_common_total.py')\n",
        "urllib.request.urlretrieve('https://raw.githubusercontent.com/dgofman/PythonAI/main/Homework1/hw1_exercise8.py', '/content/hw1_exercise8.py')\n",
        "\n",
        "import hw1_exercise8 as hw\n",
        "hw.main()"
      ],
      "metadata": {
        "colab": {
          "base_uri": "https://localhost:8080/"
        },
        "id": "4ShBT1GQpwa7",
        "outputId": "6a5064e6-4987-45ab-ea99-23d5d145e248"
      },
      "execution_count": 16,
      "outputs": [
        {
          "output_type": "stream",
          "name": "stdout",
          "text": [
            "How many seats sold for class A: hello_world\n",
            "\u001b[91m  Error: could not convert string to float: 'hello_world'\u001b[00m\n",
            "How many seats sold for class A: 5\n",
            "How many seats sold for class B: 3\n",
            "How many seats sold for class C: 7\n",
            "\n",
            "Total sold tickets: 15\n",
            "\n",
            "Your income: $215.00\n"
          ]
        }
      ]
    },
    {
      "cell_type": "markdown",
      "source": [
        "**hw1_exercise9.py**"
      ],
      "metadata": {
        "id": "AP7z4s8Wp8mH"
      }
    },
    {
      "cell_type": "code",
      "source": [
        "import urllib.request\n",
        "urllib.request.urlretrieve('https://raw.githubusercontent.com/dgofman/PythonAI/main/Homework1/hw1_exercise9.py', '/content/hw1_exercise9.py')\n",
        "\n",
        "import hw1_exercise9 as hw\n",
        "hw.main()"
      ],
      "metadata": {
        "colab": {
          "base_uri": "https://localhost:8080/"
        },
        "id": "_Ak0eVQep-CG",
        "outputId": "ebf41c06-dd13-4507-f16d-3aefa4114597"
      },
      "execution_count": 18,
      "outputs": [
        {
          "output_type": "stream",
          "name": "stdout",
          "text": [
            "[1, 2, 3, 5, 7, 11, 13, 17, 19, 23, 29, 31, 37, 41, 43, 47, 53, 59, 61, 67, 71, 73, 79, 83, 89, 97]\n"
          ]
        }
      ]
    },
    {
      "cell_type": "markdown",
      "source": [
        "**hw1_exercise10.py**"
      ],
      "metadata": {
        "id": "o-rCMpyyqjF7"
      }
    },
    {
      "cell_type": "code",
      "source": [
        "import urllib.request\n",
        "urllib.request.urlretrieve('https://raw.githubusercontent.com/dgofman/PythonAI/main/Homework1/hw1_exercise10.py', '/content/hw1_exercise10.py')\n",
        "\n",
        "import hw1_exercise10 as hw\n",
        "hw.main()"
      ],
      "metadata": {
        "colab": {
          "base_uri": "https://localhost:8080/"
        },
        "id": "luHzI5TMqkV_",
        "outputId": "4fb547e8-43a6-4dd3-9a88-342e12ee79f5"
      },
      "execution_count": 19,
      "outputs": [
        {
          "name": "stdout",
          "output_type": "stream",
          "text": [
            "Enter number between 1 to 100: hello_world\n",
            "Enter number between 1 to 100: 50\n",
            "Too low, try again.\n",
            "Enter number between 1 to 100: 80\n",
            "Too high, try again.\n",
            "Enter number between 1 to 100: 60\n",
            "Too low, try again.\n",
            "Enter number between 1 to 100: 70\n",
            "Congratulations you did it in  4  try\n",
            "Do you want to continue (y/n): y\n",
            "Enter number between 1 to 100: 50\n",
            "Too high, try again.\n",
            "Enter number between 1 to 100: 30\n",
            "Too low, try again.\n",
            "Enter number between 1 to 100: 40\n",
            "Too low, try again.\n",
            "Enter number between 1 to 100: 45\n",
            "Too high, try again.\n",
            "Enter number between 1 to 100: 43\n",
            "Too high, try again.\n",
            "Enter number between 1 to 100: 41\n",
            "Congratulations you did it in  6  try\n",
            "Do you want to continue (y/n): n\n"
          ]
        }
      ]
    },
    {
      "cell_type": "markdown",
      "source": [
        "**hw1_exercise11.py**"
      ],
      "metadata": {
        "id": "2v-C3PiorNt5"
      }
    },
    {
      "cell_type": "code",
      "source": [
        "import urllib.request\n",
        "urllib.request.urlretrieve('https://raw.githubusercontent.com/dgofman/PythonAI/main/Homework1/hw1_exercise11.py', '/content/hw1_exercise11.py')\n",
        "\n",
        "import hw1_exercise11 as hw\n",
        "hw.main()"
      ],
      "metadata": {
        "colab": {
          "base_uri": "https://localhost:8080/"
        },
        "id": "5xiIJD1brPJz",
        "outputId": "c5e7e5b7-873e-411f-deb2-d2af0249713e"
      },
      "execution_count": 20,
      "outputs": [
        {
          "output_type": "stream",
          "name": "stdout",
          "text": [
            "reassign, no content change on list= [0]\n",
            "content changed [0, 1]\n",
            "original value:  (1, 2, 3, 4), expected changes:  [1, 2, 3] , actual changes:  (1, 2, 3, 4)\n",
            "original value:  ['hello_world'], expected changes:  [] , actual changes:  []\n",
            "original value:  {'banna', 'apple', 'orange'}, expected changes:  {'apple', 'orange'} , actual changes:  {'apple', 'orange'}\n",
            "original value:  {'john': 30, 'Doe': 40, 'Henry': 50}, expected changes:  {'Doe': 40, 'Henry': 50} , actual changes:  {'Doe': 40, 'Henry': 50}\n"
          ]
        }
      ]
    }
  ]
}