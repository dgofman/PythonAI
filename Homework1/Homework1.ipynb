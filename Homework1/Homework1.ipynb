{
  "nbformat": 4,
  "nbformat_minor": 0,
  "metadata": {
    "colab": {
      "name": "Homework1.ipynb",
      "provenance": [],
      "collapsed_sections": []
    },
    "kernelspec": {
      "name": "python3",
      "display_name": "Python 3"
    },
    "language_info": {
      "name": "python"
    }
  },
  "cells": [
    {
      "cell_type": "markdown",
      "source": [
        "**hw1_exercise1.py**"
      ],
      "metadata": {
        "id": "IfH-6jcSibQF"
      }
    },
    {
      "cell_type": "code",
      "source": [
        "import sys\n",
        "sys.path.append('/content')\n",
        "\n",
        "import hw1_exercise1 as hw\n",
        "hw.main()"
      ],
      "metadata": {
        "colab": {
          "base_uri": "https://localhost:8080/"
        },
        "id": "dHCm2F5MigbK",
        "outputId": "c8c8aa15-433a-4249-a9d8-f409e059ec2c"
      },
      "execution_count": 22,
      "outputs": [
        {
          "output_type": "stream",
          "name": "stdout",
          "text": [
            "How old are you? 18\n",
            "How tall are you? 5.6 ft.\n",
            "How much do you weigh? 150 lbl.\n",
            "So, you're     18      old,  5.6 ft.    tall and  150 lbl.  heavy.\n"
          ]
        }
      ]
    },
    {
      "cell_type": "markdown",
      "source": [
        "**hw1_exercise2.py**"
      ],
      "metadata": {
        "id": "qojSzzcGkypb"
      }
    },
    {
      "cell_type": "code",
      "source": [
        "import sys\n",
        "sys.path.append('/content')\n",
        "\n",
        "import hw1_exercise2 as hw\n",
        "hw.main(sys.argv)\n",
        "print()\n",
        "hw.main([\"hw1_exercise2.py\", \"Hello\", \"World\", \"!\"])"
      ],
      "metadata": {
        "colab": {
          "base_uri": "https://localhost:8080/"
        },
        "id": "TmJpOX8Ik2ue",
        "outputId": "e612f393-3fea-417f-fe0a-067b2b685ffc"
      },
      "execution_count": 19,
      "outputs": [
        {
          "output_type": "stream",
          "name": "stdout",
          "text": [
            "The script is called: /usr/local/lib/python3.7/dist-packages/ipykernel_launcher.py\n",
            "Your first variable is: -f\n",
            "Your second variable is: /root/.local/share/jupyter/runtime/kernel-bc1439a2-f679-45db-8d40-c66a57a96cf4.json\n",
            "Your third variable is: Python For AI Basics -2022\n",
            "\n",
            "The script is called: hw1_exercise2.py\n",
            "Your first variable is: Hello\n",
            "Your second variable is: World\n",
            "Your third variable is: !\n"
          ]
        }
      ]
    },
    {
      "cell_type": "markdown",
      "source": [
        "**hw1_exercise3.py**"
      ],
      "metadata": {
        "id": "kcwcE3HzlMar"
      }
    },
    {
      "cell_type": "code",
      "source": [
        "import sys\n",
        "sys.path.append('/content')\n",
        "\n",
        "import hw1_exercise3 as hw\n",
        "hw.main(sys.argv)\n",
        "hw.main([\"hw1_exercise3.py\", 100])"
      ],
      "metadata": {
        "colab": {
          "base_uri": "https://localhost:8080/"
        },
        "id": "4t1QgSK8lSGI",
        "outputId": "845ab071-412a-4b03-b676-aa90c38e22a2"
      },
      "execution_count": 16,
      "outputs": [
        {
          "output_type": "stream",
          "name": "stdout",
          "text": [
            "50\n",
            "1000\n"
          ]
        }
      ]
    },
    {
      "cell_type": "markdown",
      "source": [
        "**hw1_exercise4.py**"
      ],
      "metadata": {
        "id": "iJJSHxrsl3ak"
      }
    },
    {
      "cell_type": "code",
      "source": [
        "import sys\n",
        "sys.path.append('/content')\n",
        "\n",
        "import hw1_exercise4 as hw\n",
        "hw.main(sys.argv)\n",
        "hw.main([\"hw1_exercise4.py\", 12])"
      ],
      "metadata": {
        "colab": {
          "base_uri": "https://localhost:8080/"
        },
        "id": "JQ2_oLvdmFgw",
        "outputId": "eb78bd4b-d5f5-499b-9cba-a7e40f995e96"
      },
      "execution_count": 23,
      "outputs": [
        {
          "output_type": "stream",
          "name": "stdout",
          "text": [
            "Unexpected quantity: -f\n",
            "Quantity accepted!\n"
          ]
        }
      ]
    },
    {
      "cell_type": "markdown",
      "source": [
        "**hw1_exercise5.py**"
      ],
      "metadata": {
        "id": "JCV7m2c7ooei"
      }
    },
    {
      "cell_type": "code",
      "source": [
        "import sys\n",
        "sys.path.append('/content')\n",
        "\n",
        "import hw1_exercise5 as hw\n",
        "hw.main()"
      ],
      "metadata": {
        "colab": {
          "base_uri": "https://localhost:8080/"
        },
        "id": "uGvw-3Gnoqtn",
        "outputId": "412ca704-399e-416f-ec83-da79be860ed5"
      },
      "execution_count": 24,
      "outputs": [
        {
          "output_type": "stream",
          "name": "stdout",
          "text": [
            "a=3, b=2, c=1\n"
          ]
        }
      ]
    },
    {
      "cell_type": "markdown",
      "source": [
        "**hw1_exercise6.py**"
      ],
      "metadata": {
        "id": "gIcH1HjxozcU"
      }
    },
    {
      "cell_type": "code",
      "source": [
        "import sys\n",
        "sys.path.append('/content')\n",
        "\n",
        "import hw1_exercise6 as hw\n",
        "hw.main()"
      ],
      "metadata": {
        "colab": {
          "base_uri": "https://localhost:8080/"
        },
        "id": "bhNDrxtzo10l",
        "outputId": "457dd235-4712-48a7-8032-b3e8877ebe6c"
      },
      "execution_count": 26,
      "outputs": [
        {
          "output_type": "stream",
          "name": "stdout",
          "text": [
            "1 3.4\n",
            "0 0\n",
            "1 3.4\n"
          ]
        }
      ]
    },
    {
      "cell_type": "markdown",
      "source": [
        "**hw1_exercise7.py**"
      ],
      "metadata": {
        "id": "qU4L7XtMpJl7"
      }
    },
    {
      "cell_type": "code",
      "source": [
        "import sys\n",
        "sys.path.append('/content')\n",
        "\n",
        "import hw1_exercise7 as hw\n",
        "hw.main()"
      ],
      "metadata": {
        "colab": {
          "base_uri": "https://localhost:8080/"
        },
        "id": "Ib8veNd_pOJ1",
        "outputId": "7277e6ac-76d2-4b58-e33f-a655720a9534"
      },
      "execution_count": 27,
      "outputs": [
        {
          "output_type": "stream",
          "name": "stdout",
          "text": [
            "Enter loan payment: hello_world\n",
            "\u001b[91m  Error: could not convert string to float: 'hello_world'\u001b[00m\n",
            "Enter loan payment: 250.50\n",
            "Enter car insurance: 65.30\n",
            "Enter gas expenses: 80\n",
            "Enter oil expenses: 20\n",
            "Enter tire costs: 40\n",
            "Enter maintenance costs: 55\n",
            "\n",
            "Monthly car expenses: $510.80\n",
            "\n",
            "Annual car expenses: $6129.60\n"
          ]
        }
      ]
    },
    {
      "cell_type": "markdown",
      "source": [
        "**hw1_exercise8.py**"
      ],
      "metadata": {
        "id": "TESL_eoLpu0a"
      }
    },
    {
      "cell_type": "code",
      "source": [
        "import sys\n",
        "sys.path.append('/content')\n",
        "\n",
        "import hw1_exercise8 as hw\n",
        "hw.main()"
      ],
      "metadata": {
        "colab": {
          "base_uri": "https://localhost:8080/"
        },
        "id": "4ShBT1GQpwa7",
        "outputId": "9fe034bb-a26e-4368-fefa-095c5d1488b6"
      },
      "execution_count": 28,
      "outputs": [
        {
          "output_type": "stream",
          "name": "stdout",
          "text": [
            "How many seats sold for class A: hello_world\n",
            "\u001b[91m  Error: could not convert string to float: 'hello_world'\u001b[00m\n",
            "How many seats sold for class A: 5\n",
            "How many seats sold for class B: 3\n",
            "How many seats sold for class C: 7\n",
            "\n",
            "Total sold tickets: 15\n",
            "\n",
            "Your income: $215.00\n"
          ]
        }
      ]
    },
    {
      "cell_type": "markdown",
      "source": [
        "**hw1_exercise9.py**"
      ],
      "metadata": {
        "id": "AP7z4s8Wp8mH"
      }
    },
    {
      "cell_type": "code",
      "source": [
        "import sys\n",
        "sys.path.append('/content')\n",
        "\n",
        "import hw1_exercise9 as hw\n",
        "hw.main()"
      ],
      "metadata": {
        "colab": {
          "base_uri": "https://localhost:8080/"
        },
        "id": "_Ak0eVQep-CG",
        "outputId": "29af628d-a95e-49b0-f744-e303c632db16"
      },
      "execution_count": 29,
      "outputs": [
        {
          "output_type": "stream",
          "name": "stdout",
          "text": [
            "[1, 2, 3, 5, 7, 11, 13, 17, 19, 23, 29, 31, 37, 41, 43, 47, 53, 59, 61, 67, 71, 73, 79, 83, 89, 97]\n"
          ]
        }
      ]
    },
    {
      "cell_type": "markdown",
      "source": [
        "**hw1_exercise10.py**"
      ],
      "metadata": {
        "id": "o-rCMpyyqjF7"
      }
    },
    {
      "cell_type": "code",
      "source": [
        "import sys\n",
        "sys.path.append('/content')\n",
        "\n",
        "import hw1_exercise10 as hw\n",
        "hw.main()"
      ],
      "metadata": {
        "colab": {
          "base_uri": "https://localhost:8080/"
        },
        "id": "luHzI5TMqkV_",
        "outputId": "aba481a2-be17-418d-9c2d-1897489f7be9"
      },
      "execution_count": 31,
      "outputs": [
        {
          "name": "stdout",
          "output_type": "stream",
          "text": [
            "Enter number between 1 to 100: hello_world\n",
            "Enter number between 1 to 100: 50\n",
            "Too low, try again.\n",
            "Enter number between 1 to 100: 80\n",
            "Too high, try again.\n",
            "Enter number between 1 to 100: 60\n",
            "Too high, try again.\n",
            "Enter number between 1 to 100: 55\n",
            "Too high, try again.\n",
            "Enter number between 1 to 100: 53\n",
            "Too high, try again.\n",
            "Enter number between 1 to 100: 51\n",
            "Congratulations you did it in  6  try\n",
            "Do you want to continue (y/n): y\n",
            "Enter number between 1 to 100: 50\n",
            "Too high, try again.\n",
            "Enter number between 1 to 100: 30\n",
            "Too low, try again.\n",
            "Enter number between 1 to 100: 40\n",
            "Too high, try again.\n",
            "Enter number between 1 to 100: 35\n",
            "Congratulations you did it in  4  try\n",
            "Do you want to continue (y/n): n\n"
          ]
        }
      ]
    },
    {
      "cell_type": "markdown",
      "source": [
        "**hw1_exercise11.py**"
      ],
      "metadata": {
        "id": "2v-C3PiorNt5"
      }
    },
    {
      "cell_type": "code",
      "source": [
        "import sys\n",
        "sys.path.append('/content')\n",
        "\n",
        "import hw1_exercise11 as hw\n",
        "hw.main()"
      ],
      "metadata": {
        "colab": {
          "base_uri": "https://localhost:8080/"
        },
        "id": "5xiIJD1brPJz",
        "outputId": "fce3891e-286a-442e-cac6-d4a75eb24db3"
      },
      "execution_count": 32,
      "outputs": [
        {
          "output_type": "stream",
          "name": "stdout",
          "text": [
            "reassign, no content change on list= [0]\n",
            "content changed [0, 1]\n",
            "original value:  (1, 2, 3, 4), expected changes:  [1, 2, 3] , actual changes:  (1, 2, 3, 4)\n",
            "original value:  ['hello_world'], expected changes:  [] , actual changes:  []\n",
            "original value:  {'banna', 'orange', 'apple'}, expected changes:  {'orange', 'apple'} , actual changes:  {'orange', 'apple'}\n",
            "original value:  {'john': 30, 'Doe': 40, 'Henry': 50}, expected changes:  {'Doe': 40, 'Henry': 50} , actual changes:  {'Doe': 40, 'Henry': 50}\n"
          ]
        }
      ]
    }
  ]
}