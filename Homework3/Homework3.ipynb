{
  "nbformat": 4,
  "nbformat_minor": 0,
  "metadata": {
    "colab": {
      "name": "Homework3.ipynb",
      "provenance": []
    },
    "kernelspec": {
      "name": "python3",
      "display_name": "Python 3"
    },
    "language_info": {
      "name": "python"
    }
  },
  "cells": [
    {
      "cell_type": "markdown",
      "source": [
        "**hw3_exercise1.py**"
      ],
      "metadata": {
        "id": "ruh3DCAfD6F6"
      }
    },
    {
      "cell_type": "markdown",
      "source": [
        "**1. What is encapsulation?**\n",
        "\n",
        "https://en.wikipedia.org/wiki/Encapsulation_(computer_programming)\n",
        "\n",
        "In object-oriented programming (OOP), encapsulation refers to the bundling of data with the methods that operate on that data, or the restricting of direct access \n",
        "to some of an object's components. Encapsulation is used to hide the values or state of a structured data object inside a class, preventing direct access to them \n",
        "by clients in a way that could expose hidden implementation details or violate state invariance maintained by the methods.\n",
        "\n",
        "**2. Why should an object’s data attributes be hidden from code outside the class?**\n",
        "\n",
        "https://programs.wiki/wiki/python_-private-properties-and-private-methods.html\n",
        "\n",
        "A private attribute and private method are defined in the parent class, which means that the private attribute and private method are the privacy of the parent class. \n",
        "Since it is the privacy of the parent class, we cannot access the privacy of the parent class outside the methods of the child class.\n",
        "In vernacular, private properties and private methods are the object's privacy, \n",
        "Since it is privacy, private attributes are attributes that do not want to be disclosed to the outside world.\n",
        "\n",
        "**3. What is the difference between a class and an instance of a class?**\n",
        "\n",
        "https://en.wikipedia.org/wiki/Instance_(computer_science)\n",
        "\n",
        "In object-oriented programming (OOP), an instance is a concrete occurrence of any object, existing usually during the runtime of a computer program. \n",
        "Formally, \"instance\" is synonymous with \"object\" as they are each a particular value (realization), and these may be called an instance object; \"instance\" \n",
        "emphasizes the distinct identity of the object. The creation of an instance is called instantiation.\n",
        "\n",
        "In class-based programming, objects are created from classes by subroutines called constructors, and destroyed by destructors. \n",
        "An object is an instance of a class, and may be called a class instance or class object; instantiation is then also known as construction. \n",
        "\n",
        "**4. The following statement calls an object’s method. What is the name of the method? What is the name of the variable that references the object?**\n",
        "   `wallet.get_dollar()`\n",
        "\n",
        "What is the name of the method? - \"**get_dollar**\"\n",
        "\n",
        "What is the name of the variable that references the object? - \"**wallet**\"\n",
        "\n",
        "**5. When the __init__ method executes, what does the self parameter reference to?**\n",
        "\n",
        "https://micropyramid.com/blog/understand-self-and-__init__-method-in-python-class/\n",
        "\n",
        "`__init__` is a reseved method in python classes. It is known as a constructor in object oriented concepts. \n",
        "This method called when an object is created from the class and it allow the class to initialize the attributes of a class.\n",
        "\n",
        "self represents the instance of the class. By using the \"self\" keyword we can access the attributes and methods of the class in python.\n",
        "\n",
        "**6. In a Python class, how do you hide an attribute from code outside the class?**\n",
        "\n",
        "http://ion.scottexteriors.com/wiki-https-docs.python.org/3/tutorial/classes.html#tut-private\n",
        "\n",
        "“Private” instance variables that cannot be accessed except from inside an object don’t exist in Python. \n",
        "However, there is a convention that is followed by most Python code: a name prefixed with an underscore (e.g. _spam) should be treated as a non-public part of the API \n",
        "(whether it is a function, a method or a data member). It should be considered an implementation detail and subject to change without notice.\n",
        "\n",
        "Since there is a valid use-case for class-private members (namely to avoid name clashes of names with names defined by subclasses), there is limited support for such a mechanism, called name mangling. Any identifier of the form `__spam` (at least two leading underscores, at most one trailing underscore) is textually replaced with `_classname__spam`, where classname is the current class name with leading underscore(s) stripped.\n",
        "\n",
        "\n",
        "**7. How do you call the following methods (which are also referred to magic methods): `__str__, __init__, __call__`**\n",
        "\n",
        "*   https://www.pythontutorial.net/python-oop/python-__str__/\n",
        "\n",
        "To customize the string representation of a class instance, the class needs to implement the `__str__` magic method.\n",
        "Internally, Python will call the `__str__` method automatically when an instance calls the **str()** method.\n",
        "Note that the **print()** function converts all non-keyword arguments to strings by passing them to the **str()** before displaying the string values.\n",
        "\n",
        "\n",
        "*   https://www.pythontutorial.net/python-oop/python-__init__/\n",
        "\n",
        "When you create a new object of a class, Python automatically calls the `__init__()` method to initialize the object’s attributes.\n",
        "\n",
        "*   https://www.geeksforgeeks.org/__call__-in-python/\n",
        "\n",
        "The `__call__` method enables Python programmers to write classes where the instances behave like functions and can be called like a function. \n",
        "When the instance is called as a function; if this method is defined, `x(arg1, arg2, ...)` is a shorthand for `x.__call__(arg1, arg2,...)`.\n"
      ],
      "metadata": {
        "id": "GwNlimW6EQfR"
      }
    },
    {
      "cell_type": "markdown",
      "source": [
        "**hw3_exercise1**.py"
      ],
      "metadata": {
        "id": "ud5Hwe3BEG4s"
      }
    },
    {
      "cell_type": "code",
      "source": [
        "import sys\n",
        "sys.path.append('/content')\n",
        "\n",
        "import hw3_exercise1 as hw\n",
        "hw.main()"
      ],
      "metadata": {
        "colab": {
          "base_uri": "https://localhost:8080/"
        },
        "id": "WJmoOeSHEKWN",
        "outputId": "651c3b45-eabf-4603-b9c9-e8dfb5e69054"
      },
      "execution_count": 3,
      "outputs": [
        {
          "output_type": "stream",
          "name": "stdout",
          "text": [
            "Distance 32 miles\n"
          ]
        }
      ]
    },
    {
      "cell_type": "markdown",
      "source": [
        "**hw3_exercise2**.py"
      ],
      "metadata": {
        "id": "aoNfN88MHSXa"
      }
    },
    {
      "cell_type": "code",
      "source": [
        "import sys\n",
        "sys.path.append('/content')\n",
        "\n",
        "import hw3_exercise2 as hw\n",
        "hw.main()"
      ],
      "metadata": {
        "colab": {
          "base_uri": "https://localhost:8080/"
        },
        "id": "_X0TROlzHT1c",
        "outputId": "fbd34de1-ea83-4313-971f-4e73f23bc8c7"
      },
      "execution_count": 4,
      "outputs": [
        {
          "output_type": "stream",
          "name": "stdout",
          "text": [
            "Title: Cracking the Coding Interview, Author: Gayle Laakmann McDowell, Publisher: CareerCup\n",
            "Title: Python for Dummies, Author: Stef Maruch, Publisher: Wiley & Sons, Incorporated, John\n"
          ]
        }
      ]
    },
    {
      "cell_type": "markdown",
      "source": [
        "**hw3_exercise3**.py"
      ],
      "metadata": {
        "id": "yPXoL8cHHb7F"
      }
    },
    {
      "cell_type": "code",
      "source": [
        "import sys\n",
        "sys.path.append('/content')\n",
        "\n",
        "import hw3_exercise3 as hw\n",
        "hw.main()"
      ],
      "metadata": {
        "colab": {
          "base_uri": "https://localhost:8080/"
        },
        "id": "lecY2UVmHd8y",
        "outputId": "20a0598e-1f00-43bb-9968-7d4c18c1b3aa"
      },
      "execution_count": 5,
      "outputs": [
        {
          "output_type": "stream",
          "name": "stdout",
          "text": [
            "Acccount: Type.SAVINGS, Last Balance: $100,000\n",
            "After interest: Acccount: Type.SAVINGS, Last Balance: $102,500.0\n",
            "Acccount: Type.CHECKING, Last Balance: $550\n",
            "Acccount: Type.MONEY_MARKET, Last Balance: $100,600\n",
            "After interest: Acccount: Type.MONEY_MARKET, Last Balance: $108,145.0\n"
          ]
        }
      ]
    },
    {
      "cell_type": "markdown",
      "source": [
        "**hw3_exercise4.py**"
      ],
      "metadata": {
        "id": "eGTQeGERIu2P"
      }
    },
    {
      "cell_type": "markdown",
      "source": [
        "**1. Polymorphism allows you to write methods in a subclass that have the same name as methods in the superclass.**\n",
        "\n",
        "***True***. Example: https://www.geeksforgeeks.org/polymorphism-in-python/\n",
        "\n",
        "\n",
        "**2. It is not possible to call a superclass’s _ _init_ _ method from a subclass’s __init__ method.**\n",
        "\n",
        "***True***. Example: https://www.geeksforgeeks.org/__init__-in-python/\n",
        "\n",
        "**3. A subclass can have a method with the same name as a method in the superclass.**\n",
        "\n",
        "***True***. Example: https://www.geeksforgeeks.org/polymorphism-in-python/\n",
        "\n",
        "\n",
        "**4. Only the _ _init_ _ method can be overridden.**\n",
        "\n",
        "***False***. \n",
        "\n",
        "**5. You cannot use the isinstance function to determine whether an object is an instance of a subclass of a class.**\n",
        "\n",
        "***False***. Example: https://www.geeksforgeeks.org/type-isinstance-python/\n",
        "\n",
        "\n",
        "**1. Look at the following class definition. What is the name of the superclass? What is the name of the subclass?**\n",
        "\n",
        "`class Tiger(Felis):`\n",
        "\n",
        "*   What is the name of the superclass? - **Felis**\n",
        "*   What is the name of the subclass? - **Tiger**"
      ],
      "metadata": {
        "id": "0eoU1N8YHpYg"
      }
    },
    {
      "cell_type": "code",
      "source": [
        "import sys\n",
        "sys.path.append('/content')\n",
        "\n",
        "import hw3_exercise4 as hw\n",
        "hw.main()"
      ],
      "metadata": {
        "colab": {
          "base_uri": "https://localhost:8080/"
        },
        "id": "RjSppYVgIx5b",
        "outputId": "67fb5df8-4d7d-4c4c-a884-f722e4f0ecce"
      },
      "execution_count": 6,
      "outputs": [
        {
          "output_type": "stream",
          "name": "stdout",
          "text": [
            "\n",
            "\n",
            "Initialize:\n",
            "Employee Name: David Gofman\n",
            "Employee Number: 1001\n",
            "Shift: Unknown Shift\n",
            "Pay Rate: 0.0\n",
            "\n",
            "\n",
            "Day Rate:\n",
            "Employee Name: David Gofman\n",
            "Employee Number: 1001\n",
            "Shift: Day Shift\n",
            "Pay Rate: 20.9\n",
            "\n",
            "\n",
            "Night Rate:\n",
            "Employee Name: David Gofman\n",
            "Employee Number: 1001\n",
            "Shift: Night Shift\n",
            "Pay Rate: 25.5\n"
          ]
        }
      ]
    }
  ]
}