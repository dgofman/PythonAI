{
  "nbformat": 4,
  "nbformat_minor": 0,
  "metadata": {
    "colab": {
      "name": "Homework6.ipynb",
      "provenance": [],
      "collapsed_sections": []
    },
    "kernelspec": {
      "name": "python3",
      "display_name": "Python 3"
    },
    "language_info": {
      "name": "python"
    }
  },
  "cells": [
    {
      "cell_type": "code",
      "source": [
        "!pip install PyPDF2\n",
        "!pip install inflector\n",
        "import urllib.request\n",
        "urllib.request.urlretrieve('https://raw.githubusercontent.com/dgofman/PythonAI/main/Homework6/hw6_exercise1.py', '/content/hw6_exercise1.py')\n",
        "urllib.request.urlretrieve('https://raw.githubusercontent.com/dgofman/PythonAI/main/Homework6/SampleCh7.pdf', '/content/SampleCh7.pdf')\n",
        "\n",
        "import hw6_exercise1 as hw\n",
        "hw.main()\n"
      ],
      "metadata": {
        "colab": {
          "base_uri": "https://localhost:8080/"
        },
        "id": "DmkAEqhQSel7",
        "outputId": "aa4a9a06-3202-40d3-b12d-87eedd425b8b"
      },
      "execution_count": 2,
      "outputs": [
        {
          "output_type": "stream",
          "name": "stdout",
          "text": [
            "Looking in indexes: https://pypi.org/simple, https://us-python.pkg.dev/colab-wheels/public/simple/\n",
            "Requirement already satisfied: PyPDF2 in /usr/local/lib/python3.7/dist-packages (2.9.0)\n",
            "Requirement already satisfied: typing-extensions in /usr/local/lib/python3.7/dist-packages (from PyPDF2) (4.1.1)\n",
            "Looking in indexes: https://pypi.org/simple, https://us-python.pkg.dev/colab-wheels/public/simple/\n",
            "Requirement already satisfied: inflector in /usr/local/lib/python3.7/dist-packages (3.0.1)\n",
            "word --     number      -- frequency: 32\n",
            "word --       is        -- frequency: 26\n",
            "word --       to        -- frequency: 24\n",
            "word --      phone      -- frequency: 24\n",
            "word --       in        -- frequency: 22\n",
            "word --     regular     -- frequency: 19\n",
            "word --   expression    -- frequency: 19\n",
            "word --      text       -- frequency: 19\n",
            "word --       of        -- frequency: 19\n",
            "word --       for       -- frequency: 18\n",
            "word --     pattern     -- frequency: 17\n",
            "word --       you       -- frequency: 17\n",
            "word --  isphonenumber  -- frequency: 15\n",
            "word --       if        -- frequency: 14\n",
            "word --      that       -- frequency: 13\n",
            "word --     string      -- frequency: 13\n",
            "word --      chunk      -- frequency: 12\n",
            "word --      with       -- frequency: 11\n",
            "word --    character    -- frequency: 11\n",
            "word --     return      -- frequency: 11\n",
            "\n",
            "number         32 is             26 to             24 phone          24 \n",
            "in             22 regular        19 expression     19 text           19 \n",
            "of             19 for            18 pattern        17 you            17 \n",
            "isphonenumber  15 if             14 that           13 string         13 \n",
            "chunk          12 with           11 character      11 return         11 \n",
            "it             10 code           10 false          10 moshi          10 \n",
            "but            9  three          9  more           9  at             9  \n",
            "this           9  find           9  program        9  print          9  \n",
            "message        9  not            8  hyphen         8  on             8  \n",
            "function       8  check          7  me             7  be             6  \n",
            "then           6  have           6  can            6  match          6  \n",
            "know           5  will           5  digit          5  four           5  \n",
            "example        5  true           5  like           5  first          5  \n",
            "would          5  regex          5  by             4  word           4  \n",
            "or             4  as             4  when           4  see            4  \n",
            "also           4  all            4  other          4  use            4  \n",
            "chapter        4  through        4  an             4  range          4  \n",
            "run            4  any            4  call           4  done           4  \n",
            "loop           4  matching       3  step           3  area           3  \n",
            "how            3  we             3  are            3  even           3  \n",
            "les            3  from           3  finding        3  whether        3  \n",
            "following      3  isdecimal      3  what           3  do             3  \n",
            "these          3  fail           3  found          3  each           3  \n",
            "iteration      3  assigned       3  so             3  may            2  \n",
            "go             2  one            2  search         2  start          2  \n",
            "day            2  email          2  address        2  social         2  \n",
            "programmer     2  about          2  them           2  editor         2  \n",
            "such           2  replace        2  feature        2  time           2  \n",
            "cory           2  doctorow       2  should         2  solving        2  \n",
            "problem        2  take           2  work           2  using          2  \n",
            "make           2  much           2  finally        2  write          2  \n",
            "american       2  new            2  file           2  py             2  \n",
            "len            2  ict            2  teach          2  kid            2  \n",
            "output         2  look           2  only           2  numeric        2  \n",
            "after          2  another        2  calling        2  long           2  \n",
            "add            2  short          2  could          2  than           2  \n",
            "second         2  previou        2  familiar       1  searching      1  \n",
            "pressing       1  ctrl           1  entering       1  you're         1  \n",
            "looking        1  further        1  they           1  allow          1  \n",
            "specify        1  business       1  exact          1  live           1  \n",
            "united         1  state          1  canada         1  followed       1  \n",
            "optionally     1  human          1  recognize      1  sort           1  \n",
            "every          1  symbol         1  middle         1  us             1  \n",
            "security       1  nine           1  two            1  website        1  \n",
            "url            1  often          1  period         1  forward        1  \n",
            "slash          1  news           1  headline       1  title          1  \n",
            "case           1  media          1  hashtag        1  begin          1  \n",
            "contain        1  no             1  space          1  helpful        1  \n",
            "few            1  non            1  though         1  most           1  \n",
            "modern         1  processor      1  microsoft      1  openoffice     1  \n",
            "based          1  huge           1  saver          1  just           1  \n",
            "software       1  user           1  fact           1  tech           1  \n",
            "writer         1  argue          1  teaching       1  before         1  \n",
            "programming    1  knowing        1  mean           1  difference     1  \n",
            "between        1  nerd           1  forget         1  solve          1  \n",
            "cou            1  ple            1  keystroke      1  person         1  \n",
            "tediou         1  error          1  prone          1  slog           1  \n",
            "you'll         1  writing        1  out            1  bloated        1  \n",
            "i'll           1  show           1  basic          1  move           1  \n",
            "some           1  powerful       1  substitution   1  creating       1  \n",
            "your           1  own            1  class          1  end            1  \n",
            "automatically  1  extract        1  block          1  without        1  \n",
            "say            1  want           1  here's         1  let            1  \n",
            "named          1  returning      1  either         1  open           1  \n",
            "tab            1  enter          1  save           1  def            1  \n",
            "really         1  guardian       1  december       1  http           1  \n",
            "www            1  theguardian    1  com            1  technology     1  \n",
            "dec            1  ha             1  several        1  valid          1  \n",
            "exactly        1  consist        1  rest           1  follow         1  \n",
            "must           1  execution      1  manage         1  get            1  \n",
            "past           1  argument       1  test           1  because        1  \n",
            "wanted         1  within         1  larger         1  last           1  \n",
            "tomorrow       1  my             1  office         1  variable       1  \n",
            "itera          1  tion           1  next           1  value          1  \n",
            "ll             1  pas            1  continue       1  eventually     1  \n",
            "entire         1  testing        1  piece          1  printing       1  \n",
            "satisfy        1  once           1  we're          1  going          1  \n",
            "while          1  million        1  still          1  similar        1  \n",
            "quicker        1  lot            1  something      1  limited        1  \n",
            "line           1  formatted      1  num            1  ber            1  \n",
            "had            1  extension      1  validate       1  yet            1  \n",
            "addi           1  tional         1  there          1  easier         1  \n",
            "way            1  called         1  description    1  pat            1  \n",
            "tern           1  stand          1  single         1  numeral        1  \n",
            "used           1  python         1  same           1  did            1  \n",
            "sophisticated  1  adding         1  brace          1  saying         1  \n",
            "slightly       1  shorter        1  correct        1  format         1  \n",
            "\n"
          ]
        }
      ]
    },
    {
      "cell_type": "markdown",
      "source": [
        "**UnitTesting**\n",
        "\n",
        "Check the output generated by the dockerfile against my output\n",
        "\n",
        "Dockerfile: https://raw.githubusercontent.com/dgofman/PythonAI/main/Homework6/Dockerfile\n",
        "\n",
        "\n",
        "Python Test: https://raw.githubusercontent.com/dgofman/PythonAI/main/Homework6/project.py\n"
      ],
      "metadata": {
        "id": "CnYZwFB4Zd-9"
      }
    },
    {
      "cell_type": "code",
      "source": [
        "!pip install PyPDF2\n",
        "import urllib.request\n",
        "urllib.request.urlretrieve('https://raw.githubusercontent.com/dgofman/PythonAI/main/Homework6/test.py', '/content/test.py')\n",
        "urllib.request.urlretrieve('https://raw.githubusercontent.com/dgofman/PythonAI/main/Homework6/SampleCh7.pdf', '/content/SampleCh7.pdf')\n",
        "urllib.request.urlretrieve('https://raw.githubusercontent.com/dgofman/PythonAI/main/Homework6/my_output.txt', '/content/my_output.txt')\n",
        "urllib.request.urlretrieve('https://raw.githubusercontent.com/dgofman/PythonAI/main/Homework6/qin790_output.txt', '/content/qin790_output.txt')\n",
        "\n",
        "import test\n",
        "test.main()"
      ],
      "metadata": {
        "colab": {
          "base_uri": "https://localhost:8080/"
        },
        "id": "EAsdrvkeZ5C8",
        "outputId": "49ec9832-4a93-463d-a03a-38897e7792a4"
      },
      "execution_count": 4,
      "outputs": [
        {
          "output_type": "stream",
          "name": "stdout",
          "text": [
            "Looking in indexes: https://pypi.org/simple, https://us-python.pkg.dev/colab-wheels/public/simple/\n",
            "Requirement already satisfied: PyPDF2 in /usr/local/lib/python3.7/dist-packages (2.9.0)\n",
            "Requirement already satisfied: typing-extensions in /usr/local/lib/python3.7/dist-packages (from PyPDF2) (4.1.1)\n",
            "2. Missing key in Glen's output file: is\n",
            "1. Number of frequencies: (mine) 17 Glen's: 22\n",
            "\n",
            "5. Missing key in Glen's output file: is\n",
            "4. Number of frequencies: (mine) 17 Glen's: 22\n",
            "5. Missing key in Glen's output file: this\n",
            "5. Missing key in Glen's output file: four\n",
            "4. Number of frequencies: (mine) 3 Glen's: 4\n",
            "5. Missing key in Glen's output file: you're\n",
            "5. Missing key in Glen's output file: business\n",
            "5. Missing key in Glen's output file: us\n",
            "5. Missing key in Glen's output file: media\n",
            "5. Missing key in Glen's output file: you'll\n",
            "5. Missing key in Glen's output file: i'll\n",
            "5. Missing key in Glen's output file: your\n",
            "5. Missing key in Glen's output file: here's\n",
            "4. Number of frequencies: (mine) 1 Glen's: 4\n",
            "5. Missing key in Glen's output file: we're\n",
            "\n",
            "6. Missing key in my output file: re\n",
            "6. Missing key in my output file: busines\n",
            "6. Missing key in my output file: fmy\n",
            "6. Missing key in my output file: thi\n",
            "6. Missing key in my output file: medium\n",
            "6. Missing key in my output file: ymy\n",
            "6. Missing key in my output file: here\n"
          ]
        }
      ]
    }
  ]
}