{
  "nbformat": 4,
  "nbformat_minor": 0,
  "metadata": {
    "colab": {
      "name": "Homework2.ipynb",
      "provenance": [],
      "collapsed_sections": []
    },
    "kernelspec": {
      "name": "python3",
      "display_name": "Python 3"
    },
    "language_info": {
      "name": "python"
    }
  },
  "cells": [
    {
      "cell_type": "markdown",
      "source": [
        "**hw2_exercise1.py**"
      ],
      "metadata": {
        "id": "2XoCjSSK0TDK"
      }
    },
    {
      "cell_type": "code",
      "source": [
        "import urllib.request\n",
        "urllib.request.urlretrieve('https://raw.githubusercontent.com/dgofman/PythonAI/main/Homework2/file_manager.py', '/content/file_manager.py')\n",
        "urllib.request.urlretrieve('https://raw.githubusercontent.com/dgofman/PythonAI/main/Homework2/hw2_exercise1.py', '/content/hw2_exercise1.py')\n",
        "\n",
        "import hw2_exercise1 as hw\n",
        "hw.main()"
      ],
      "metadata": {
        "colab": {
          "base_uri": "https://localhost:8080/"
        },
        "id": "J8mXU4CX0eJ1",
        "outputId": "6e0a647b-1b63-4540-a1ca-66c7c08ab6ef"
      },
      "execution_count": 3,
      "outputs": [
        {
          "output_type": "stream",
          "name": "stderr",
          "text": [
            "2022-07-10 23:06:00.741 DEBUG: Open file: my_name.txt\n",
            "2022-07-10 23:06:00.746 DEBUG: Write: David Gofman\n",
            "2022-07-10 23:06:00.751 DEBUG: Close file: my_name.txt\n"
          ]
        }
      ]
    },
    {
      "cell_type": "markdown",
      "source": [
        "**hw2_exercise2.py**"
      ],
      "metadata": {
        "id": "KQhMKY3O0u48"
      }
    },
    {
      "cell_type": "code",
      "source": [
        "import urllib.request\n",
        "urllib.request.urlretrieve('https://raw.githubusercontent.com/dgofman/PythonAI/main/Homework2/file_manager.py', '/content/file_manager.py')\n",
        "urllib.request.urlretrieve('https://raw.githubusercontent.com/dgofman/PythonAI/main/Homework2/hw2_exercise2.py', '/content/hw2_exercise2.py')\n",
        "\n",
        "import hw2_exercise2 as hw\n",
        "hw.main()"
      ],
      "metadata": {
        "colab": {
          "base_uri": "https://localhost:8080/"
        },
        "id": "G4yjmQqk0wLq",
        "outputId": "20042705-93e1-47c1-d0de-296846db8f72"
      },
      "execution_count": 4,
      "outputs": [
        {
          "output_type": "stream",
          "name": "stderr",
          "text": [
            "2022-07-10 23:06:27.977 DEBUG: Open file: my_name.txt\n",
            "2022-07-10 23:06:27.979 DEBUG: Read Context\n",
            "2022-07-10 23:06:27.982 DEBUG: Close file: my_name.txt\n",
            "2022-07-10 23:06:27.984 DEBUG: Delete file: my_name.txt\n",
            "2022-07-10 23:06:27.986 DEBUG: Open file: my_name.txt\n"
          ]
        },
        {
          "output_type": "stream",
          "name": "stdout",
          "text": [
            "David Gofman\n",
            "\u001b[91m  Error: [Errno 2] No such file or directory: 'my_name.txt'\u001b[00m\n",
            "None\n"
          ]
        }
      ]
    },
    {
      "cell_type": "markdown",
      "source": [
        "**hw2_exercise3.py**"
      ],
      "metadata": {
        "id": "576mjH5F03el"
      }
    },
    {
      "cell_type": "code",
      "source": [
        "import urllib.request\n",
        "urllib.request.urlretrieve('https://raw.githubusercontent.com/dgofman/PythonAI/main/Homework2/file_manager.py', '/content/file_manager.py')\n",
        "urllib.request.urlretrieve('https://raw.githubusercontent.com/dgofman/PythonAI/main/Homework2/hw2_exercise3.py', '/content/hw2_exercise3.py')\n",
        "\n",
        "import hw2_exercise3 as hw\n",
        "hw.main()"
      ],
      "metadata": {
        "colab": {
          "base_uri": "https://localhost:8080/"
        },
        "id": "I0kr7ukw07qV",
        "outputId": "52bc2e71-0959-4a45-aed1-7736823d5522"
      },
      "execution_count": 5,
      "outputs": [
        {
          "output_type": "stream",
          "name": "stderr",
          "text": [
            "2022-07-10 23:07:01.609 DEBUG: Open file: number_list.txt\n",
            "2022-07-10 23:07:01.612 DEBUG: Close file: number_list.txt\n"
          ]
        }
      ]
    },
    {
      "cell_type": "markdown",
      "source": [
        "**hw2_exercise4.py**"
      ],
      "metadata": {
        "id": "1oTrCnnS1Cl0"
      }
    },
    {
      "cell_type": "code",
      "source": [
        "import urllib.request\n",
        "urllib.request.urlretrieve('https://raw.githubusercontent.com/dgofman/PythonAI/main/Homework2/file_manager.py', '/content/file_manager.py')\n",
        "urllib.request.urlretrieve('https://raw.githubusercontent.com/dgofman/PythonAI/main/Homework2/hw2_exercise4.py', '/content/hw2_exercise4.py')\n",
        "\n",
        "import hw2_exercise4 as hw\n",
        "hw.main()"
      ],
      "metadata": {
        "colab": {
          "base_uri": "https://localhost:8080/"
        },
        "id": "3BF8_f5K1D88",
        "outputId": "a53b93bf-7ee0-45f7-c4a9-d60adbe151c6"
      },
      "execution_count": 6,
      "outputs": [
        {
          "output_type": "stream",
          "name": "stderr",
          "text": [
            "2022-07-10 23:07:27.429 DEBUG: Open file: number_list.txt\n",
            "2022-07-10 23:07:27.431 DEBUG: Read Context\n",
            "2022-07-10 23:07:27.435 DEBUG: Close file: number_list.txt\n",
            "2022-07-10 23:07:27.438 DEBUG: Delete file: number_list.txt\n",
            "2022-07-10 23:07:27.443 DEBUG: Open file: number_list.txt\n"
          ]
        },
        {
          "output_type": "stream",
          "name": "stdout",
          "text": [
            "  1,   2,   3,   4,   5,   6,   7,   8,   9,  10,  11,  12,  13,  14,  15,  16,  17,  18,  19, 20\n",
            " 21,  22,  23,  24,  25,  26,  27,  28,  29,  30,  31,  32,  33,  34,  35,  36,  37,  38,  39, 40\n",
            " 41,  42,  43,  44,  45,  46,  47,  48,  49,  50,  51,  52,  53,  54,  55,  56,  57,  58,  59, 60\n",
            " 61,  62,  63,  64,  65,  66,  67,  68,  69,  70,  71,  72,  73,  74,  75,  76,  77,  78,  79, 80\n",
            " 81,  82,  83,  84,  85,  86,  87,  88,  89,  90,  91,  92,  93,  94,  95,  96,  97,  98,  99, 100\n",
            "\n",
            "\u001b[91m  Error: [Errno 2] No such file or directory: 'number_list.txt'\u001b[00m\n",
            "None\n"
          ]
        }
      ]
    },
    {
      "cell_type": "markdown",
      "source": [
        "**hw2_exercise5.py**"
      ],
      "metadata": {
        "id": "EhtIvrda1Kj3"
      }
    },
    {
      "cell_type": "code",
      "source": [
        "import urllib.request\n",
        "urllib.request.urlretrieve('https://raw.githubusercontent.com/dgofman/PythonAI/main/Homework2/file_manager.py', '/content/file_manager.py')\n",
        "urllib.request.urlretrieve('https://raw.githubusercontent.com/dgofman/PythonAI/main/Homework2/hw2_exercise5.py', '/content/hw2_exercise5.py')\n",
        "\n",
        "import hw2_exercise5 as hw\n",
        "hw.main()"
      ],
      "metadata": {
        "colab": {
          "base_uri": "https://localhost:8080/"
        },
        "id": "-b8KaO9S1MFe",
        "outputId": "58ee9ab3-784e-458d-8e03-5a7899e6c6c4"
      },
      "execution_count": 7,
      "outputs": [
        {
          "name": "stdout",
          "output_type": "stream",
          "text": [
            "Enter your name: Julie Taylor\n",
            "Describe yourself: I am a computer science major, a member of the Jazz club, and I hope to work as a mobile app developer after I graduate.\n"
          ]
        },
        {
          "output_type": "stream",
          "name": "stderr",
          "text": [
            "2022-07-10 23:08:36.497 DEBUG: Open file: about.html\n",
            "2022-07-10 23:08:36.500 DEBUG: Write: \n",
            "<html>\n",
            "<head>\n",
            "</head>\n",
            "<body>\n",
            "    <center>\n",
            "        <h1>Julie Taylor</h1>\n",
            "    </center>\n",
            "    <hr />\n",
            "    I am a computer science major, a member of the Jazz club, and I hope to work as a mobile app developer after I graduate.\n",
            "    <hr />\n",
            "</body>\n",
            "</html>\n",
            "    \n",
            "2022-07-10 23:08:36.502 DEBUG: Close file: about.html\n",
            "2022-07-10 23:08:39.512 DEBUG: Delete file: about.html\n"
          ]
        }
      ]
    },
    {
      "cell_type": "markdown",
      "source": [
        "**hw2_exercise6.py**"
      ],
      "metadata": {
        "id": "g8ocxceA1f5n"
      }
    },
    {
      "cell_type": "code",
      "source": [
        "import urllib.request\n",
        "urllib.request.urlretrieve('https://raw.githubusercontent.com/dgofman/PythonAI/main/Homework2/hw2_exercise6.py', '/content/hw2_exercise6.py')\n",
        "\n",
        "import hw2_exercise6 as hw\n",
        "hw.main()"
      ],
      "metadata": {
        "colab": {
          "base_uri": "https://localhost:8080/"
        },
        "id": "XboLOdmD1iGj",
        "outputId": "7d95c22b-dfa1-492f-df37-6e11733e25c2"
      },
      "execution_count": 9,
      "outputs": [
        {
          "output_type": "stream",
          "name": "stdout",
          "text": [
            "This code caused a ValueError.\n",
            "The end.\n"
          ]
        }
      ]
    },
    {
      "cell_type": "markdown",
      "source": [
        "**hw2_exercise7.py**"
      ],
      "metadata": {
        "id": "OtqxA5sT1s9P"
      }
    },
    {
      "cell_type": "code",
      "source": [
        "import urllib.request\n",
        "urllib.request.urlretrieve('https://raw.githubusercontent.com/dgofman/PythonAI/main/Homework2/hw2_exercise7.py', '/content/hw2_exercise7.py')\n",
        "\n",
        "import hw2_exercise7 as hw\n",
        "hw.main()"
      ],
      "metadata": {
        "colab": {
          "base_uri": "https://localhost:8080/"
        },
        "id": "pdshH5x91uji",
        "outputId": "55c8e9a8-b753-4516-e00b-fec6f78c7985"
      },
      "execution_count": 10,
      "outputs": [
        {
          "output_type": "stream",
          "name": "stdout",
          "text": [
            "An error happened.\n",
            "The end.\n"
          ]
        }
      ]
    },
    {
      "cell_type": "markdown",
      "source": [
        "**hw2_exercise8.py**"
      ],
      "metadata": {
        "id": "Hm_OhGFI13BQ"
      }
    },
    {
      "cell_type": "code",
      "source": [
        "import urllib.request\n",
        "urllib.request.urlretrieve('https://raw.githubusercontent.com/dgofman/PythonAI/main/Homework2/hw2_exercise8.py', '/content/hw2_exercise8.py')\n",
        "\n",
        "import hw2_exercise8 as hw\n",
        "hw.main()"
      ],
      "metadata": {
        "colab": {
          "base_uri": "https://localhost:8080/"
        },
        "id": "ysu1RbdQ14lB",
        "outputId": "1096862e-93e8-4b9c-a035-9e0d7085cc41"
      },
      "execution_count": 11,
      "outputs": [
        {
          "output_type": "stream",
          "name": "stdout",
          "text": [
            "Do you want to continue? (y/n)y\n",
            "Do you want to continue? (y/n)Y\n",
            "Do you want to continue? (y/n)n\n",
            "Thanks!\n"
          ]
        }
      ]
    },
    {
      "cell_type": "markdown",
      "source": [
        "**hw2_exercise9.py**"
      ],
      "metadata": {
        "id": "pWqvD-WG2FSR"
      }
    },
    {
      "cell_type": "code",
      "source": [
        "import urllib.request\n",
        "urllib.request.urlretrieve('https://raw.githubusercontent.com/dgofman/PythonAI/main/Homework2/lorem_ipsum.py', '/content/lorem_ipsum.py')\n",
        "urllib.request.urlretrieve('https://raw.githubusercontent.com/dgofman/PythonAI/main/Homework2/hw2_exercise9.py', '/content/hw2_exercise9.py')\n",
        "\n",
        "import hw2_exercise9 as hw\n",
        "hw.main()"
      ],
      "metadata": {
        "colab": {
          "base_uri": "https://localhost:8080/"
        },
        "id": "wgXq03d92GtV",
        "outputId": "4508818c-c4a2-4f22-9b82-50851c81c1bd"
      },
      "execution_count": 13,
      "outputs": [
        {
          "output_type": "stream",
          "name": "stdout",
          "text": [
            "Number of space characters: 138\n"
          ]
        }
      ]
    },
    {
      "cell_type": "markdown",
      "source": [
        "**hw2_exercise10.py**"
      ],
      "metadata": {
        "id": "uMhDxRxH2Pfm"
      }
    },
    {
      "cell_type": "code",
      "source": [
        "import urllib.request\n",
        "urllib.request.urlretrieve('https://raw.githubusercontent.com/dgofman/PythonAI/main/Homework2/lorem_ipsum.py', '/content/lorem_ipsum.py')\n",
        "urllib.request.urlretrieve('https://raw.githubusercontent.com/dgofman/PythonAI/main/Homework2/hw2_exercise10.py', '/content/hw2_exercise10.py')\n",
        "\n",
        "import hw2_exercise10 as hw\n",
        "hw.main()"
      ],
      "metadata": {
        "colab": {
          "base_uri": "https://localhost:8080/"
        },
        "id": "MCwjQPea2RH5",
        "outputId": "33727b85-70be-41b4-dc6a-3a5b3b82bbb0"
      },
      "execution_count": 15,
      "outputs": [
        {
          "output_type": "stream",
          "name": "stdout",
          "text": [
            "Number of digits: 11\n"
          ]
        }
      ]
    },
    {
      "cell_type": "markdown",
      "source": [
        "**hw2_exercise11.py**"
      ],
      "metadata": {
        "id": "3FUbk_922YLW"
      }
    },
    {
      "cell_type": "code",
      "source": [
        "import urllib.request\n",
        "urllib.request.urlretrieve('https://raw.githubusercontent.com/dgofman/PythonAI/main/Homework2/lorem_ipsum.py', '/content/lorem_ipsum.py')\n",
        "urllib.request.urlretrieve('https://raw.githubusercontent.com/dgofman/PythonAI/main/Homework2/hw2_exercise11.py', '/content/hw2_exercise11.py')\n",
        "\n",
        "import hw2_exercise11 as hw\n",
        "hw.main()"
      ],
      "metadata": {
        "colab": {
          "base_uri": "https://localhost:8080/"
        },
        "id": "MeCLuzYr2Zac",
        "outputId": "23c78ab6-8cbd-4b92-ac47-c5c66d015ffe"
      },
      "execution_count": 16,
      "outputs": [
        {
          "output_type": "stream",
          "name": "stdout",
          "text": [
            "Number of lowercase characters: 430\n"
          ]
        }
      ]
    },
    {
      "cell_type": "markdown",
      "source": [
        "**hw2_exercise12.py**"
      ],
      "metadata": {
        "id": "HEHdNZOv2fyG"
      }
    },
    {
      "cell_type": "code",
      "source": [
        "import urllib.request\n",
        "urllib.request.urlretrieve('https://raw.githubusercontent.com/dgofman/PythonAI/main/Homework2/hw2_exercise12.py', '/content/hw2_exercise12.py')\n",
        "\n",
        "import hw2_exercise12 as hw\n",
        "hw.main()"
      ],
      "metadata": {
        "colab": {
          "base_uri": "https://localhost:8080/"
        },
        "id": "dV14kev92hCY",
        "outputId": "1834fb8d-b689-415b-fdf5-be379025c096"
      },
      "execution_count": 18,
      "outputs": [
        {
          "output_type": "stream",
          "name": "stdout",
          "text": [
            "URL: http://www.google.com\n",
            "is commercial domain:  True\n",
            "URL: http://www.google.com/index.html\n",
            "is commercial domain:  True\n",
            "URL: https://www.cstu.edu/index.html\n",
            "is commercial domain:  False\n"
          ]
        }
      ]
    },
    {
      "cell_type": "markdown",
      "source": [
        "**hw2_exercise13.py**"
      ],
      "metadata": {
        "id": "nz1IcvVC2mxm"
      }
    },
    {
      "cell_type": "code",
      "source": [
        "import urllib.request\n",
        "urllib.request.urlretrieve('https://raw.githubusercontent.com/dgofman/PythonAI/main/Homework2/hw2_exercise13.py', '/content/hw2_exercise13.py')\n",
        "\n",
        "import hw2_exercise13 as hw\n",
        "hw.main([\"hw2_exercise13.py\", \"555-GET-FOOD\"])\n",
        "hw.main([\"hw2_exercise13.py\", \"HELLOWORLD\"])\n",
        "hw.main([\"hw2_exercise13.py\", \"pyt-hon-1234\"])"
      ],
      "metadata": {
        "colab": {
          "base_uri": "https://localhost:8080/"
        },
        "id": "XRAHVHhb2skq",
        "outputId": "55abe642-af96-4499-f8d8-b5257f8fae57"
      },
      "execution_count": 20,
      "outputs": [
        {
          "output_type": "stream",
          "name": "stdout",
          "text": [
            "555-438-3663\n",
            "435-569-6753\n",
            "798-466-1234\n"
          ]
        }
      ]
    },
    {
      "cell_type": "markdown",
      "source": [
        "**hw2_exercise14.py**"
      ],
      "metadata": {
        "id": "uvDt2o7A6EUD"
      }
    },
    {
      "cell_type": "code",
      "source": [
        "import urllib.request\n",
        "urllib.request.urlretrieve('https://raw.githubusercontent.com/dgofman/PythonAI/main/Homework2/hw2_exercise14.py', '/content/hw2_exercise14.py')\n",
        "\n",
        "import hw2_exercise14 as hw\n",
        "hw.main([\"hw2_exercise14.py\", \"hello. my name is Joe. what is your name? please.\"])\n",
        "hw.main([\"hw2_exercise14.py\", \"hi!     my name is David.    glad to meet you.\"])"
      ],
      "metadata": {
        "colab": {
          "base_uri": "https://localhost:8080/"
        },
        "id": "_PMqgDaY6Ffi",
        "outputId": "75f9e0b4-7880-4bb7-a362-8ec2171d1ede"
      },
      "execution_count": 21,
      "outputs": [
        {
          "output_type": "stream",
          "name": "stdout",
          "text": [
            "Hello. My name is Joe. What is your name? Please.\n",
            "Hi!     My name is David.    Glad to meet you.\n"
          ]
        }
      ]
    }
  ]
}