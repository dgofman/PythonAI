{
  "nbformat": 4,
  "nbformat_minor": 0,
  "metadata": {
    "colab": {
      "name": "Homework2.ipynb",
      "provenance": [],
      "collapsed_sections": []
    },
    "kernelspec": {
      "name": "python3",
      "display_name": "Python 3"
    },
    "language_info": {
      "name": "python"
    }
  },
  "cells": [
    {
      "cell_type": "markdown",
      "source": [
        "**hw2_exercise1.py**"
      ],
      "metadata": {
        "id": "2XoCjSSK0TDK"
      }
    },
    {
      "cell_type": "code",
      "source": [
        "import sys\n",
        "sys.path.append('/content')\n",
        "\n",
        "import hw2_exercise1 as hw\n",
        "hw.main()"
      ],
      "metadata": {
        "colab": {
          "base_uri": "https://localhost:8080/"
        },
        "id": "J8mXU4CX0eJ1",
        "outputId": "824eb699-b702-416a-e01c-8fbca8e12100"
      },
      "execution_count": 1,
      "outputs": [
        {
          "output_type": "stream",
          "name": "stderr",
          "text": [
            "2022-06-28 05:39:32.165 DEBUG: Open file: my_name.txt\n",
            "2022-06-28 05:39:32.170 DEBUG: Write: David Gofman\n",
            "2022-06-28 05:39:32.173 DEBUG: Close file: my_name.txt\n",
            "2022-06-28 05:39:32.179 DEBUG: Loaded backend module://ipykernel.pylab.backend_inline version unknown.\n"
          ]
        }
      ]
    },
    {
      "cell_type": "markdown",
      "source": [
        "**hw2_exercise2.py**"
      ],
      "metadata": {
        "id": "KQhMKY3O0u48"
      }
    },
    {
      "cell_type": "code",
      "source": [
        "import sys\n",
        "sys.path.append('/content')\n",
        "\n",
        "import hw2_exercise2 as hw\n",
        "hw.main()"
      ],
      "metadata": {
        "colab": {
          "base_uri": "https://localhost:8080/"
        },
        "id": "G4yjmQqk0wLq",
        "outputId": "993b3b9d-93cc-4b71-856e-57f7f3a59b7f"
      },
      "execution_count": 2,
      "outputs": [
        {
          "output_type": "stream",
          "name": "stderr",
          "text": [
            "2022-06-28 05:40:19.754 DEBUG: Open file: my_name.txt\n",
            "2022-06-28 05:40:19.757 DEBUG: Read Context\n",
            "2022-06-28 05:40:19.762 DEBUG: Close file: my_name.txt\n",
            "2022-06-28 05:40:19.764 DEBUG: Delete file: my_name.txt\n",
            "2022-06-28 05:40:19.770 DEBUG: Open file: my_name.txt\n"
          ]
        },
        {
          "output_type": "stream",
          "name": "stdout",
          "text": [
            "David Gofman\n",
            "\u001b[91m  Error: [Errno 2] No such file or directory: 'my_name.txt'\u001b[00m\n",
            "None\n"
          ]
        }
      ]
    },
    {
      "cell_type": "markdown",
      "source": [
        "**hw2_exercise3.py**"
      ],
      "metadata": {
        "id": "576mjH5F03el"
      }
    },
    {
      "cell_type": "code",
      "source": [
        "import sys\n",
        "sys.path.append('/content')\n",
        "\n",
        "import hw2_exercise3 as hw\n",
        "hw.main()"
      ],
      "metadata": {
        "colab": {
          "base_uri": "https://localhost:8080/"
        },
        "id": "I0kr7ukw07qV",
        "outputId": "4fda63ca-8217-405c-a5f3-38d021553ef8"
      },
      "execution_count": 3,
      "outputs": [
        {
          "output_type": "stream",
          "name": "stderr",
          "text": [
            "2022-06-28 05:41:06.342 DEBUG: Open file: number_list.txt\n",
            "2022-06-28 05:41:06.345 DEBUG: Close file: number_list.txt\n"
          ]
        }
      ]
    },
    {
      "cell_type": "markdown",
      "source": [
        "**hw2_exercise4.py**"
      ],
      "metadata": {
        "id": "1oTrCnnS1Cl0"
      }
    },
    {
      "cell_type": "code",
      "source": [
        "import sys\n",
        "sys.path.append('/content')\n",
        "\n",
        "import hw2_exercise4 as hw\n",
        "hw.main()"
      ],
      "metadata": {
        "colab": {
          "base_uri": "https://localhost:8080/"
        },
        "id": "3BF8_f5K1D88",
        "outputId": "dd9250df-f65e-4d1b-d063-ab148b861ea2"
      },
      "execution_count": 4,
      "outputs": [
        {
          "output_type": "stream",
          "name": "stderr",
          "text": [
            "2022-06-28 05:41:43.275 DEBUG: Open file: number_list.txt\n",
            "2022-06-28 05:41:43.280 DEBUG: Read Context\n",
            "2022-06-28 05:41:43.286 DEBUG: Close file: number_list.txt\n",
            "2022-06-28 05:41:43.288 DEBUG: Delete file: number_list.txt\n",
            "2022-06-28 05:41:43.289 DEBUG: Open file: number_list.txt\n"
          ]
        },
        {
          "output_type": "stream",
          "name": "stdout",
          "text": [
            "  1,   2,   3,   4,   5,   6,   7,   8,   9,  10,  11,  12,  13,  14,  15,  16,  17,  18,  19, 20\n",
            " 21,  22,  23,  24,  25,  26,  27,  28,  29,  30,  31,  32,  33,  34,  35,  36,  37,  38,  39, 40\n",
            " 41,  42,  43,  44,  45,  46,  47,  48,  49,  50,  51,  52,  53,  54,  55,  56,  57,  58,  59, 60\n",
            " 61,  62,  63,  64,  65,  66,  67,  68,  69,  70,  71,  72,  73,  74,  75,  76,  77,  78,  79, 80\n",
            " 81,  82,  83,  84,  85,  86,  87,  88,  89,  90,  91,  92,  93,  94,  95,  96,  97,  98,  99, 100\n",
            "\n",
            "\u001b[91m  Error: [Errno 2] No such file or directory: 'number_list.txt'\u001b[00m\n",
            "None\n"
          ]
        }
      ]
    },
    {
      "cell_type": "markdown",
      "source": [
        "**hw2_exercise5.py**"
      ],
      "metadata": {
        "id": "EhtIvrda1Kj3"
      }
    },
    {
      "cell_type": "code",
      "source": [
        "import sys\n",
        "sys.path.append('/content')\n",
        "\n",
        "import hw2_exercise5 as hw\n",
        "hw.main()"
      ],
      "metadata": {
        "colab": {
          "base_uri": "https://localhost:8080/"
        },
        "id": "-b8KaO9S1MFe",
        "outputId": "b2e10db0-2303-4e1b-aecb-887c1ba8f35c"
      },
      "execution_count": 5,
      "outputs": [
        {
          "name": "stdout",
          "output_type": "stream",
          "text": [
            "Enter your name: Julie Taylor\n",
            "Describe yourself: I am a computer science major, a member of the Jazz club, and I hope to work as a mobile app developer after I graduate.\n"
          ]
        },
        {
          "output_type": "stream",
          "name": "stderr",
          "text": [
            "2022-06-28 05:43:01.259 DEBUG: Open file: about.html\n",
            "2022-06-28 05:43:01.263 DEBUG: Write: \n",
            "<html>\n",
            "<head>\n",
            "</head>\n",
            "<body>\n",
            "    <center>\n",
            "        <h1>Julie Taylor</h1>\n",
            "    </center>\n",
            "    <hr />\n",
            "    I am a computer science major, a member of the Jazz club, and I hope to work as a mobile app developer after I graduate.\n",
            "    <hr />\n",
            "</body>\n",
            "</html>\n",
            "    \n",
            "2022-06-28 05:43:01.264 DEBUG: Close file: about.html\n",
            "2022-06-28 05:43:04.270 DEBUG: Delete file: about.html\n"
          ]
        }
      ]
    },
    {
      "cell_type": "markdown",
      "source": [
        "**hw2_exercise6.py**"
      ],
      "metadata": {
        "id": "g8ocxceA1f5n"
      }
    },
    {
      "cell_type": "code",
      "source": [
        "import sys\n",
        "sys.path.append('/content')\n",
        "\n",
        "import hw2_exercise6 as hw\n",
        "hw.main()"
      ],
      "metadata": {
        "colab": {
          "base_uri": "https://localhost:8080/"
        },
        "id": "XboLOdmD1iGj",
        "outputId": "efb1d35c-8579-4277-849a-60a76843c8b6"
      },
      "execution_count": 6,
      "outputs": [
        {
          "output_type": "stream",
          "name": "stdout",
          "text": [
            "This code caused a ValueError.\n",
            "The end.\n"
          ]
        }
      ]
    },
    {
      "cell_type": "markdown",
      "source": [
        "**hw2_exercise7.py**"
      ],
      "metadata": {
        "id": "OtqxA5sT1s9P"
      }
    },
    {
      "cell_type": "code",
      "source": [
        "import sys\n",
        "sys.path.append('/content')\n",
        "\n",
        "import hw2_exercise7 as hw\n",
        "hw.main()"
      ],
      "metadata": {
        "colab": {
          "base_uri": "https://localhost:8080/"
        },
        "id": "pdshH5x91uji",
        "outputId": "ddf3e7e4-a9c3-410b-8050-cb0e545bfa2b"
      },
      "execution_count": 7,
      "outputs": [
        {
          "output_type": "stream",
          "name": "stdout",
          "text": [
            "An error happened.\n",
            "The end.\n"
          ]
        }
      ]
    },
    {
      "cell_type": "markdown",
      "source": [
        "**hw2_exercise8.py**"
      ],
      "metadata": {
        "id": "Hm_OhGFI13BQ"
      }
    },
    {
      "cell_type": "code",
      "source": [
        "import sys\n",
        "sys.path.append('/content')\n",
        "\n",
        "import hw2_exercise8 as hw\n",
        "hw.main()"
      ],
      "metadata": {
        "colab": {
          "base_uri": "https://localhost:8080/"
        },
        "id": "ysu1RbdQ14lB",
        "outputId": "3b1ea230-f39e-4e53-8adc-9c36331fb9eb"
      },
      "execution_count": 8,
      "outputs": [
        {
          "output_type": "stream",
          "name": "stdout",
          "text": [
            "Do you want to continue? (y/n)y\n",
            "Do you want to continue? (y/n)Y\n",
            "Do you want to continue? (y/n)n\n",
            "Thanks!\n"
          ]
        }
      ]
    },
    {
      "cell_type": "markdown",
      "source": [
        "**hw2_exercise9.py**"
      ],
      "metadata": {
        "id": "pWqvD-WG2FSR"
      }
    },
    {
      "cell_type": "code",
      "source": [
        "import sys\n",
        "sys.path.append('/content')\n",
        "\n",
        "import hw2_exercise9 as hw\n",
        "hw.main()"
      ],
      "metadata": {
        "colab": {
          "base_uri": "https://localhost:8080/"
        },
        "id": "wgXq03d92GtV",
        "outputId": "55b262f0-5949-45e0-f839-46a8673107f1"
      },
      "execution_count": 9,
      "outputs": [
        {
          "output_type": "stream",
          "name": "stdout",
          "text": [
            "Number of space characters: 138\n"
          ]
        }
      ]
    },
    {
      "cell_type": "markdown",
      "source": [
        "**hw2_exercise10.py**"
      ],
      "metadata": {
        "id": "uMhDxRxH2Pfm"
      }
    },
    {
      "cell_type": "code",
      "source": [
        "import sys\n",
        "sys.path.append('/content')\n",
        "\n",
        "import hw2_exercise10 as hw\n",
        "hw.main()"
      ],
      "metadata": {
        "colab": {
          "base_uri": "https://localhost:8080/"
        },
        "id": "MCwjQPea2RH5",
        "outputId": "1d536b9c-be20-4bf2-de20-d27bf566cd91"
      },
      "execution_count": 10,
      "outputs": [
        {
          "output_type": "stream",
          "name": "stdout",
          "text": [
            "Number of digits: 11\n"
          ]
        }
      ]
    },
    {
      "cell_type": "markdown",
      "source": [
        "**hw2_exercise11.py**"
      ],
      "metadata": {
        "id": "3FUbk_922YLW"
      }
    },
    {
      "cell_type": "code",
      "source": [
        "import sys\n",
        "sys.path.append('/content')\n",
        "\n",
        "import hw2_exercise11 as hw\n",
        "hw.main()"
      ],
      "metadata": {
        "colab": {
          "base_uri": "https://localhost:8080/"
        },
        "id": "MeCLuzYr2Zac",
        "outputId": "26fda6a0-2ed0-4564-8ecb-a4edd0515c84"
      },
      "execution_count": 11,
      "outputs": [
        {
          "output_type": "stream",
          "name": "stdout",
          "text": [
            "Number of lowercase characters: 430\n"
          ]
        }
      ]
    },
    {
      "cell_type": "markdown",
      "source": [
        "**hw2_exercise12.py**"
      ],
      "metadata": {
        "id": "HEHdNZOv2fyG"
      }
    },
    {
      "cell_type": "code",
      "source": [
        "import sys\n",
        "sys.path.append('/content')\n",
        "\n",
        "import hw2_exercise12 as hw\n",
        "hw.main()"
      ],
      "metadata": {
        "colab": {
          "base_uri": "https://localhost:8080/"
        },
        "id": "dV14kev92hCY",
        "outputId": "96b2a757-5e55-4fe2-e185-782b53e250d3"
      },
      "execution_count": 12,
      "outputs": [
        {
          "output_type": "stream",
          "name": "stdout",
          "text": [
            "URL: http://www.google.com\n",
            "is commercial domain:  True\n",
            "URL: http://www.google.com/index.html\n",
            "is commercial domain:  True\n",
            "URL: https://www.cstu.edu/index.html\n",
            "is commercial domain:  False\n"
          ]
        }
      ]
    },
    {
      "cell_type": "markdown",
      "source": [
        "**hw2_exercise13.py**"
      ],
      "metadata": {
        "id": "nz1IcvVC2mxm"
      }
    },
    {
      "cell_type": "code",
      "source": [
        "import sys\n",
        "sys.path.append('/content')\n",
        "\n",
        "import hw2_exercise13 as hw\n",
        "hw.main([\"hw2_exercise13.py\", \"555-GET-FOOD\"])\n",
        "hw.main([\"hw2_exercise13.py\", \"HELLOWORLD\"])\n",
        "hw.main([\"hw2_exercise13.py\", \"pyt-hon-1234\"])"
      ],
      "metadata": {
        "colab": {
          "base_uri": "https://localhost:8080/"
        },
        "id": "XRAHVHhb2skq",
        "outputId": "04e0424e-f11f-4313-e309-95aca9fccbfc"
      },
      "execution_count": 33,
      "outputs": [
        {
          "output_type": "stream",
          "name": "stdout",
          "text": [
            "555-438-3663\n",
            "435-569-6753\n",
            "798-466-1234\n"
          ]
        }
      ]
    },
    {
      "cell_type": "markdown",
      "source": [
        "**hw2_exercise14.py**"
      ],
      "metadata": {
        "id": "uvDt2o7A6EUD"
      }
    },
    {
      "cell_type": "code",
      "source": [
        "import sys\n",
        "sys.path.append('/content')\n",
        "\n",
        "import hw2_exercise14 as hw\n",
        "hw.main([\"hw2_exercise14.py\", \"hello. my name is Joe. what is your name? please.\"])\n",
        "hw.main([\"hw2_exercise14.py\", \"hi!     my name is David.    glad to meet you.\"])"
      ],
      "metadata": {
        "colab": {
          "base_uri": "https://localhost:8080/"
        },
        "id": "_PMqgDaY6Ffi",
        "outputId": "09ce1cbe-270f-47e2-849b-90036731c4c1"
      },
      "execution_count": 34,
      "outputs": [
        {
          "output_type": "stream",
          "name": "stdout",
          "text": [
            "Hello. My name is Joe. What is your name? Please.\n",
            "Hi!     My name is David.    Glad to meet you.\n"
          ]
        }
      ]
    }
  ]
}